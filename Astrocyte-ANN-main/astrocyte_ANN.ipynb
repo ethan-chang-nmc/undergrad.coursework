{
 "cells": [
  {
   "cell_type": "markdown",
   "metadata": {},
   "source": [
    "## **Astrocytes: Providing a New Perspective on Neural Networks**\n",
    "*[Ethan Chang](https://ethan-chang-nmc.github.io/), 2025*\n",
    "\n",
    "### **(1)** ***Astrocytes: The what and the why***\n",
    "What is inside the brain? Most are familiar with the neuron, a cell often described as the wires that form the basis of neural circuitry. However, there is another group of cells in the brain called [Glial Cells](https://www.frontiersin.org/journals/cellular-neuroscience/articles/10.3389/fncel.2017.00024/full), which consists of astrocytes, microglia, and oligodendrocytes (Central Nervous System \\[CNS\\]) or Schwann cells (Peripheral Nervous System \\[PNS\\]). (Check out the NIH's BRAIN Initiative Cell Census Network [\\(BICCN\\)](https://braininitiative.nih.gov/research/tools-and-technologies-brain-cells-and-circuits/brain-initiative-cell-census-network) for more information on cell types in the brain). Of these, we are concerned with astrocytes, the most common type of glial cell that has been gaining traction in the last few decades. Originally thought to be simply support cells that maintain homeostasis for neuronal functions, research on astrocyte function has revealed participation of astrocytes in critical neuronal functions beyond what was previously thought, from the [tripartate synapse](https://pmc.ncbi.nlm.nih.gov/articles/PMC5928581/) to the [glymphatic system ](https://www.science.org/doi/full/10.1126/science.1241224).\n",
    "\n",
    "<figure style=\"text-align: center;\">\n",
    "  <img src=\"images/astrocyte_2018_AV.jpeg\" alt=\"Typical Human Protoplasmic Astrocyte\" width=400>\n",
    "  <figcaption><em>Typical Human Protoplasmic Astrocyte, <a href=\"https://journals.physiology.org/doi/full/10.1152/physrev.00042.2016\">Verkhratsky and Nedergaard 2018</a></em></figcaption>\n",
    "</figure>\n",
    "\n",
    "More relevant to the discussion of neural networks, astrocytes have been shown to be in direct control of modulating synapses. Locus coeruleus-derived norepinephrine reduces synaptic efficacy, with the effect being [dependent on astrocytic $\\alpha1A$ adrenergic receptors and not neuronal ones](https://pubmed.ncbi.nlm.nih.gov/38826209/). The growing evidence of direct contribution of astrocytes to neuronal circuits beyond maintaining hoemeostasis for the neurons suggests that successful incorporation of astrocytes into current models of neural networks could provide insights to biological and artifical networks. For example, a model that employs a writing phase with Hebbian neuron-neuron learning and a presynaptic plasticity rule for neuron-astrocyte interactions, followed by a reading phase in which astrocytes modulate synaptic weights, naturally gives rise to [transformer-like computations](https://www.pnas.org/doi/10.1073/pnas.2219150120). Some properties of astrocytes to consider are\n",
    "\n",
    "- \"Domains\" of control\n",
    "- Slower (seconds) timescale comared to neurons (ms)\n",
    "- Ca+ slow wave dynamics"
   ]
  },
  {
   "cell_type": "markdown",
   "metadata": {},
   "source": [
    "### **(2)** ***CTRNN as a model to incorporate astrocyte-neuron dynamics***\n",
    "I aim to implement, explain, and reproduce the models identified in [Gong et al., 2024](https://journals.plos.org/ploscompbiol/article?id=10.1371/journal.pcbi.1012186).\n",
    "\n",
    "Continuous time recurrant neural networks (CTRNN) are a type of biologically inspired neural network that are [universal approximators](https://www.sciencedirect.com/science/article/pii/S089360800580125X), with small networks still retaining the ability to [exhibit complex behaviors](https://journals.sagepub.com/doi/10.1177/105971239500300405). Each membrane potential of each neuron $x_i \\in \\mathbb{R}$ is defined by the ordinary differential equation (ODE)\n",
    "\n",
    "$$\n",
    "\\tau_n \\dot{x}_i = -a_i x_i + \\sum_{j=1}^{n} w_{ij} \\phi(x_j) + u_i,\\quad i = 1, \\ldots, n,\n",
    "$$\n",
    "\n",
    "With \n",
    "\n",
    "- $tau_n > 0$: time constant\n",
    "- $a_i > 0$: decay parameter\n",
    "- $w_{ij}$: weight from neuron $j$ to $i$\n",
    "- $\\phi(x_j)$: nonlinear activation function on neuron $j$\n",
    "- $u_i$: external input\n",
    "\n"
   ]
  },
  {
   "cell_type": "code",
   "execution_count": 1,
   "metadata": {},
   "outputs": [],
   "source": [
    "import numpy as np\n",
    "\n"
   ]
  },
  {
   "cell_type": "markdown",
   "metadata": {},
   "source": []
  }
 ],
 "metadata": {
  "kernelspec": {
   "display_name": "Python 3",
   "language": "python",
   "name": "python3"
  },
  "language_info": {
   "codemirror_mode": {
    "name": "ipython",
    "version": 3
   },
   "file_extension": ".py",
   "mimetype": "text/x-python",
   "name": "python",
   "nbconvert_exporter": "python",
   "pygments_lexer": "ipython3",
   "version": "3.11.9"
  }
 },
 "nbformat": 4,
 "nbformat_minor": 2
}
